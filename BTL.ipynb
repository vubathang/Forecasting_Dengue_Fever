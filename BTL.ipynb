{
 "cells": [
  {
   "cell_type": "code",
   "execution_count": 1,
   "metadata": {},
   "outputs": [],
   "source": [
    "import pandas as pd\n",
    "import numpy as np\n",
    "import matplotlib.pyplot as plt\n",
    "import seaborn as sns"
   ]
  },
  {
   "cell_type": "code",
   "execution_count": 2,
   "metadata": {},
   "outputs": [
    {
     "data": {
      "text/html": [
       "<div>\n",
       "<style scoped>\n",
       "    .dataframe tbody tr th:only-of-type {\n",
       "        vertical-align: middle;\n",
       "    }\n",
       "\n",
       "    .dataframe tbody tr th {\n",
       "        vertical-align: top;\n",
       "    }\n",
       "\n",
       "    .dataframe thead th {\n",
       "        text-align: right;\n",
       "    }\n",
       "</style>\n",
       "<table border=\"1\" class=\"dataframe\">\n",
       "  <thead>\n",
       "    <tr style=\"text-align: right;\">\n",
       "      <th></th>\n",
       "      <th>dengue.p_i_d</th>\n",
       "      <th>dengue.date_of_fever</th>\n",
       "      <th>dengue.residence</th>\n",
       "      <th>dengue.days</th>\n",
       "      <th>dengue.current_temp</th>\n",
       "      <th>dengue.wbc</th>\n",
       "      <th>dengue.servere_headche</th>\n",
       "      <th>dengue.pain_behind_the_eyes</th>\n",
       "      <th>dengue.joint_muscle_aches</th>\n",
       "      <th>dengue.metallic_taste_in_the_mouth</th>\n",
       "      <th>dengue.appetite_loss</th>\n",
       "      <th>dengue.addominal_pain</th>\n",
       "      <th>dengue.nausea_vomiting</th>\n",
       "      <th>dengue.diarrhoea</th>\n",
       "      <th>dengue.hemoglobin</th>\n",
       "      <th>dengue._hematocri</th>\n",
       "      <th>dengue.platelet</th>\n",
       "      <th>dengue.dengue</th>\n",
       "    </tr>\n",
       "  </thead>\n",
       "  <tbody>\n",
       "    <tr>\n",
       "      <th>0</th>\n",
       "      <td>P012</td>\n",
       "      <td>13-Jan</td>\n",
       "      <td>Bangalore</td>\n",
       "      <td>10 days</td>\n",
       "      <td>100.0</td>\n",
       "      <td>5.0</td>\n",
       "      <td>yes</td>\n",
       "      <td>no</td>\n",
       "      <td>no</td>\n",
       "      <td>yes</td>\n",
       "      <td>yes</td>\n",
       "      <td>yes</td>\n",
       "      <td>no</td>\n",
       "      <td>yes</td>\n",
       "      <td>15.0</td>\n",
       "      <td>NaN</td>\n",
       "      <td>140.0</td>\n",
       "      <td>yes</td>\n",
       "    </tr>\n",
       "    <tr>\n",
       "      <th>1</th>\n",
       "      <td>P011</td>\n",
       "      <td>13-Feb</td>\n",
       "      <td>New Delhi</td>\n",
       "      <td>4 days</td>\n",
       "      <td>104.0</td>\n",
       "      <td>1.0</td>\n",
       "      <td>no</td>\n",
       "      <td>yes</td>\n",
       "      <td>yes</td>\n",
       "      <td>no</td>\n",
       "      <td>no</td>\n",
       "      <td>no</td>\n",
       "      <td>no</td>\n",
       "      <td>no</td>\n",
       "      <td>9.0</td>\n",
       "      <td>22.0</td>\n",
       "      <td>80.0</td>\n",
       "      <td>no</td>\n",
       "    </tr>\n",
       "    <tr>\n",
       "      <th>2</th>\n",
       "      <td>P010</td>\n",
       "      <td>9-Jan</td>\n",
       "      <td>Jamica</td>\n",
       "      <td>5 days</td>\n",
       "      <td>104.0</td>\n",
       "      <td>5.0</td>\n",
       "      <td>NaN</td>\n",
       "      <td>no</td>\n",
       "      <td>no</td>\n",
       "      <td>yes</td>\n",
       "      <td>yes</td>\n",
       "      <td>yes</td>\n",
       "      <td>yes</td>\n",
       "      <td>no</td>\n",
       "      <td>NaN</td>\n",
       "      <td>NaN</td>\n",
       "      <td>120.0</td>\n",
       "      <td>yes</td>\n",
       "    </tr>\n",
       "    <tr>\n",
       "      <th>3</th>\n",
       "      <td>P009</td>\n",
       "      <td>12-Aug</td>\n",
       "      <td>Barbados</td>\n",
       "      <td>12 months</td>\n",
       "      <td>101.0</td>\n",
       "      <td>NaN</td>\n",
       "      <td>yes</td>\n",
       "      <td>yes</td>\n",
       "      <td>no</td>\n",
       "      <td>no</td>\n",
       "      <td>no</td>\n",
       "      <td>no</td>\n",
       "      <td>no</td>\n",
       "      <td>no</td>\n",
       "      <td>NaN</td>\n",
       "      <td>NaN</td>\n",
       "      <td>NaN</td>\n",
       "      <td>no</td>\n",
       "    </tr>\n",
       "    <tr>\n",
       "      <th>4</th>\n",
       "      <td>P008</td>\n",
       "      <td>12-Oct</td>\n",
       "      <td>St.Martin</td>\n",
       "      <td>3 days</td>\n",
       "      <td>101.0</td>\n",
       "      <td>NaN</td>\n",
       "      <td>yes</td>\n",
       "      <td>no</td>\n",
       "      <td>no</td>\n",
       "      <td>no</td>\n",
       "      <td>no</td>\n",
       "      <td>no</td>\n",
       "      <td>yes</td>\n",
       "      <td>no</td>\n",
       "      <td>NaN</td>\n",
       "      <td>NaN</td>\n",
       "      <td>NaN</td>\n",
       "      <td>no</td>\n",
       "    </tr>\n",
       "  </tbody>\n",
       "</table>\n",
       "</div>"
      ],
      "text/plain": [
       "  dengue.p_i_d dengue.date_of_fever dengue.residence dengue.days  \\\n",
       "0         P012               13-Jan        Bangalore     10 days   \n",
       "1         P011               13-Feb        New Delhi      4 days   \n",
       "2         P010                9-Jan           Jamica      5 days   \n",
       "3         P009               12-Aug         Barbados   12 months   \n",
       "4         P008               12-Oct        St.Martin      3 days   \n",
       "\n",
       "   dengue.current_temp  dengue.wbc dengue.servere_headche  \\\n",
       "0                100.0         5.0                    yes   \n",
       "1                104.0         1.0                     no   \n",
       "2                104.0         5.0                    NaN   \n",
       "3                101.0         NaN                    yes   \n",
       "4                101.0         NaN                    yes   \n",
       "\n",
       "  dengue.pain_behind_the_eyes dengue.joint_muscle_aches  \\\n",
       "0                          no                        no   \n",
       "1                         yes                       yes   \n",
       "2                          no                        no   \n",
       "3                         yes                        no   \n",
       "4                          no                        no   \n",
       "\n",
       "  dengue.metallic_taste_in_the_mouth dengue.appetite_loss  \\\n",
       "0                                yes                  yes   \n",
       "1                                 no                   no   \n",
       "2                                yes                  yes   \n",
       "3                                 no                   no   \n",
       "4                                 no                   no   \n",
       "\n",
       "  dengue.addominal_pain dengue.nausea_vomiting dengue.diarrhoea  \\\n",
       "0                   yes                     no              yes   \n",
       "1                    no                     no               no   \n",
       "2                   yes                    yes               no   \n",
       "3                    no                     no               no   \n",
       "4                    no                    yes               no   \n",
       "\n",
       "   dengue.hemoglobin  dengue._hematocri  dengue.platelet dengue.dengue  \n",
       "0               15.0                NaN            140.0           yes  \n",
       "1                9.0               22.0             80.0            no  \n",
       "2                NaN                NaN            120.0           yes  \n",
       "3                NaN                NaN              NaN            no  \n",
       "4                NaN                NaN              NaN            no  "
      ]
     },
     "execution_count": 2,
     "metadata": {},
     "output_type": "execute_result"
    }
   ],
   "source": [
    "dataset = pd.read_csv('dengue.csv')\n",
    "dataset.head()"
   ]
  },
  {
   "cell_type": "markdown",
   "metadata": {},
   "source": [
    "#### Data Pre-Process"
   ]
  },
  {
   "cell_type": "markdown",
   "metadata": {},
   "source": [
    "##### Missing Data Replacement = Data Imputation"
   ]
  },
  {
   "cell_type": "code",
   "execution_count": 3,
   "metadata": {},
   "outputs": [
    {
     "name": "stdout",
     "output_type": "stream",
     "text": [
      "> Columns 0[dengue.p_i_d], missing entries: 0, percentage 0.0%\n",
      "> Columns 1[dengue.date_of_fever], missing entries: 0, percentage 0.0%\n",
      "> Columns 2[dengue.residence], missing entries: 0, percentage 0.0%\n",
      "> Columns 3[dengue.days], missing entries: 9, percentage 8.333333333333332%\n",
      "> Columns 4[dengue.current_temp], missing entries: 0, percentage 0.0%\n",
      "> Columns 5[dengue.wbc], missing entries: 63, percentage 58.333333333333336%\n",
      "> Columns 6[dengue.servere_headche], missing entries: 18, percentage 16.666666666666664%\n",
      "> Columns 7[dengue.pain_behind_the_eyes], missing entries: 0, percentage 0.0%\n",
      "> Columns 8[dengue.joint_muscle_aches], missing entries: 9, percentage 8.333333333333332%\n",
      "> Columns 9[dengue.metallic_taste_in_the_mouth], missing entries: 0, percentage 0.0%\n",
      "> Columns 10[dengue.appetite_loss], missing entries: 0, percentage 0.0%\n",
      "> Columns 11[dengue.addominal_pain], missing entries: 0, percentage 0.0%\n",
      "> Columns 12[dengue.nausea_vomiting], missing entries: 0, percentage 0.0%\n",
      "> Columns 13[dengue.diarrhoea], missing entries: 0, percentage 0.0%\n",
      "> Columns 14[dengue.hemoglobin], missing entries: 72, percentage 66.66666666666666%\n",
      "> Columns 15[dengue._hematocri], missing entries: 81, percentage 75.0%\n",
      "> Columns 16[dengue.platelet], missing entries: 54, percentage 50.0%\n",
      "> Columns 17[dengue.dengue], missing entries: 9, percentage 8.333333333333332%\n"
     ]
    }
   ],
   "source": [
    "for i in range(len(dataset.columns)):\n",
    "  missing_data = dataset[dataset.columns[i]].isna().sum()\n",
    "  perc = missing_data / len(dataset) * 100\n",
    "  print(f'> Columns {i}[{dataset.columns[i]}], missing entries: {missing_data}, percentage {perc}%')"
   ]
  },
  {
   "cell_type": "code",
   "execution_count": 4,
   "metadata": {},
   "outputs": [
    {
     "data": {
      "text/plain": [
       "<Axes: >"
      ]
     },
     "execution_count": 4,
     "metadata": {},
     "output_type": "execute_result"
    },
    {
     "data": {
      "image/png": "[encoded data removed]",
      "text/plain": [
       "<Figure size 1000x800 with 2 Axes>"
      ]
     },
     "metadata": {},
     "output_type": "display_data"
    }
   ],
   "source": [
    "fig, ax = plt.subplots(figsize=(10, 8))\n",
    "sns.heatmap(dataset.isna(), cmap='Blues', cbar='False', yticklabels='False')"
   ]
  },
  {
   "cell_type": "code",
   "execution_count": 5,
   "metadata": {},
   "outputs": [],
   "source": [
    "def process_days(x):\n",
    "    if pd.isna(x):\n",
    "        return np.nan\n",
    "    if 'days' in x:\n",
    "        return int(x.split(' days')[0])\n",
    "    if 'weeks' in x:\n",
    "        return int(x.split(' weeks')[0]) * 7\n",
    "    if 'months' in x:\n",
    "        return int(x.split(' months')[0]) * 30\n",
    "    if '--' in x:\n",
    "        return int(x.split('--')[1])\n",
    "    return np.nan"
   ]
  },
  {
   "cell_type": "code",
   "execution_count": 6,
   "metadata": {},
   "outputs": [],
   "source": [
    "X = dataset.iloc[:, :-1]\n",
    "X['dengue.days'] = X['dengue.days'].apply(process_days)\n",
    "X = X.drop(columns=['dengue.p_i_d', 'dengue.date_of_fever', 'dengue.residence'])"
   ]
  },
  {
   "cell_type": "code",
   "execution_count": 7,
   "metadata": {},
   "outputs": [
    {
     "name": "stdout",
     "output_type": "stream",
     "text": [
      "['yes' 'no' 'yes' 'no' 'no' 'yes' 'yes' 'yes' nan 'yes' 'yes' 'yes' 'yes'\n",
      " 'no' 'yes' 'no' 'no' 'yes' 'yes' 'yes' nan 'yes' 'yes' 'yes' 'yes' 'no'\n",
      " 'yes' 'no' 'no' 'yes' 'yes' 'yes' nan 'yes' 'yes' 'yes' 'yes' 'no' 'yes'\n",
      " 'no' 'no' 'yes' 'yes' 'yes' nan 'yes' 'yes' 'yes' 'yes' 'no' 'yes' 'no'\n",
      " 'no' 'yes' 'yes' 'yes' nan 'yes' 'yes' 'yes' 'yes' 'no' 'yes' 'no' 'no'\n",
      " 'yes' 'yes' 'yes' nan 'yes' 'yes' 'yes' 'yes' 'no' 'yes' 'no' 'no' 'yes'\n",
      " 'yes' 'yes' nan 'yes' 'yes' 'yes' 'yes' 'no' 'yes' 'no' 'no' 'yes' 'yes'\n",
      " 'yes' nan 'yes' 'yes' 'yes' 'yes' 'no' 'yes' 'no' 'no' 'yes' 'yes' 'yes'\n",
      " nan 'yes' 'yes' 'yes']\n"
     ]
    }
   ],
   "source": [
    "y = dataset.iloc[:,-1].values\n",
    "print(y)"
   ]
  },
  {
   "cell_type": "code",
   "execution_count": 8,
   "metadata": {},
   "outputs": [
    {
     "data": {
      "text/plain": [
       "[0, 1, 2, 11, 12, 13]"
      ]
     },
     "execution_count": 8,
     "metadata": {},
     "output_type": "execute_result"
    }
   ],
   "source": [
    "continuous_columns = []\n",
    "categorical_columns = []\n",
    "\n",
    "for col in X.columns:\n",
    "    if np.dtype(X[col]) == 'float64':\n",
    "        continuous_columns.append(X.columns.get_loc(col))\n",
    "    if np.dtype(X[col]) == 'object':\n",
    "        categorical_columns.append(X.columns.get_loc(col))\n",
    "\n",
    "continuous_columns"
   ]
  },
  {
   "cell_type": "code",
   "execution_count": 9,
   "metadata": {},
   "outputs": [],
   "source": [
    "X = X.values"
   ]
  },
  {
   "cell_type": "code",
   "execution_count": 10,
   "metadata": {},
   "outputs": [
    {
     "data": {
      "text/plain": [
       "array([[10.0, 100.0, 5.0, ..., 15.0, 23.333333333333332, 140.0],\n",
       "       [4.0, 104.0, 1.0, ..., 9.0, 22.0, 80.0],\n",
       "       [5.0, 104.0, 5.0, ..., 10.65, 23.333333333333332, 120.0],\n",
       "       ...,\n",
       "       [14.0, 101.0, 3.64, ..., 10.65, 23.333333333333332, 105.0],\n",
       "       [4.0, 105.0, 3.64, ..., 10.65, 23.333333333333332, 105.0],\n",
       "       [38.54545454545455, 0.0, 5.0, ..., 8.6, 23.0, 90.0]], dtype=object)"
      ]
     },
     "execution_count": 10,
     "metadata": {},
     "output_type": "execute_result"
    }
   ],
   "source": [
    "from sklearn.impute import SimpleImputer\n",
    "\n",
    "imputerContinue = SimpleImputer(missing_values=np.nan, strategy='mean')\n",
    "imputerClassifies = SimpleImputer(missing_values=np.nan, strategy='most_frequent')\n",
    "\n",
    "X[:, continuous_columns] = imputerContinue.fit_transform(X[:, continuous_columns])\n",
    "X[:, categorical_columns] = imputerClassifies.fit_transform(X[:, categorical_columns])\n",
    "\n",
    "X"
   ]
  },
  {
   "cell_type": "markdown",
   "metadata": {},
   "source": [
    "##### Encode Categorical Data"
   ]
  },
  {
   "cell_type": "code",
   "execution_count": 141,
   "metadata": {},
   "outputs": [
    {
     "name": "stdout",
     "output_type": "stream",
     "text": [
      "['yes' 'no' 'yes' 'no' 'no' 'yes' 'yes' 'yes' nan 'yes' 'yes' 'yes' 'yes'\n",
      " 'no' 'yes' 'no' 'no' 'yes' 'yes' 'yes' nan 'yes' 'yes' 'yes' 'yes' 'no'\n",
      " 'yes' 'no' 'no' 'yes' 'yes' 'yes' nan 'yes' 'yes' 'yes' 'yes' 'no' 'yes'\n",
      " 'no' 'no' 'yes' 'yes' 'yes' nan 'yes' 'yes' 'yes' 'yes' 'no' 'yes' 'no'\n",
      " 'no' 'yes' 'yes' 'yes' nan 'yes' 'yes' 'yes' 'yes' 'no' 'yes' 'no' 'no'\n",
      " 'yes' 'yes' 'yes' nan 'yes' 'yes' 'yes' 'yes' 'no' 'yes' 'no' 'no' 'yes'\n",
      " 'yes' 'yes' nan 'yes' 'yes' 'yes' 'yes' 'no' 'yes' 'no' 'no' 'yes' 'yes'\n",
      " 'yes' nan 'yes' 'yes' 'yes' 'yes' 'no' 'yes' 'no' 'no' 'yes' 'yes' 'yes'\n",
      " nan 'yes' 'yes' 'yes']\n"
     ]
    }
   ],
   "source": [
    "from sklearn.preprocessing import LabelEncoder\n",
    "le = LabelEncoder()\n",
    "print(y)\n",
    "# y = le.fit_transform(y)\n",
    "# y\n",
    "X_raw = 0"
   ]
  }
 ],
 "metadata": {
  "kernelspec": {
   "display_name": "base",
   "language": "python",
   "name": "python3"
  },
  "language_info": {
   "codemirror_mode": {
    "name": "ipython",
    "version": 3
   },
   "file_extension": ".py",
   "mimetype": "text/x-python",
   "name": "python",
   "nbconvert_exporter": "python",
   "pygments_lexer": "ipython3",
   "version": "3.11.5"
  }
 },
 "nbformat": 4,
 "nbformat_minor": 2
}
